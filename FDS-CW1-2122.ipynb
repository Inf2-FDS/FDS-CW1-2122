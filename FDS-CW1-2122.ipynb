{
 "cells": [
  {
   "cell_type": "markdown",
   "metadata": {
    "deletable": false,
    "editable": false
   },
   "source": [
    "<span style=\"display: none\">\n",
    "\\setcounter{secnumdepth}{0}\n",
    "</span>"
   ]
  },
  {
   "cell_type": "markdown",
   "metadata": {
    "deletable": false,
    "editable": false
   },
   "source": [
    "# Inf2-FDS Coursework 1 - Data wrangling and visualisation \n",
    "\n",
    "Released: Monday, 25 October 2021\n",
    "\n",
    "Submission deadline: **Friday, 5 November, 16:00 UK time**\n",
    "\n",
    "##  Late submission rules\n",
    "\n",
    "This coursework uses the [Informatics Late Submission of Coursework](https://web.inf.ed.ac.uk/infweb/admin/policies/late-submission-coursework) Rule 3 with a __maximum 6 day__ extension: \n",
    "\n",
    "> Extensions, Extra Time Adjustment (ETA) for Extra Time and for Extra Time for Proof Reader/Interpreter are permitted, __but cannot be combined__. The maximum extension is up to 6 days, or fewer if specified. \n",
    ">\n",
    "> __Penalty:__ If assessed coursework is submitted late without an approved ETA extension, it will be recorded as late and a penalty of  5% per calendar day will be applied for up to the specified number of calendar days ($\\leq 6$), after which a mark of zero will be given.   \n",
    ">\n",
    "> - For electronic submissions, the last version that has been submitted by the deadline will be the one that is marked (late submission will only be accepted if no submission in time has been made).   \n",
    ">\n",
    "> - If a student with an extension or either type of ETA submits late beyond the specified extended deadline a mark of zero will be given.   \n",
    "\n",
    "**It is very important that you read and follow the instructions below to the letter: you will be deducted marks for not adhering to the advice below.**\n",
    "\n",
    "## Good Scholarly Practice \n",
    "\n",
    "Please remember the University requirement as regards all assessed work for credit.  Details about this can be found at: [http://web.inf.ed.ac.uk/infweb/admin/policies/academic-misconduct](http://web.inf.ed.ac.uk/infweb/admin/policies/academic-misconduct)\n",
    "\n",
    "Specifically, this coursework **must be your own work**. We want you to be able to discuss the class material with each other, but the coursework you submit must be your own work. You are free to form study groups and discuss the concepts related to, and the high-level approach to the coursework. **You may never share code or share write-ups**. It is also not permitted to discuss this coursework on Piazza. The only exception is that if you believe there is an error in the coursework, you may ask a private question to the instructors, and if we feel that the issue is justified, we will send out an announcement.\n",
    "\n",
    "## Assessment information and criteria\n",
    "\n",
    "- This assignment accounts for 20% of the grade for this course.\n",
    "- It is graded based on the PDF export from a Jupyter notebook (see __General instructions__ below), which you are to submit via Gradescope (see __Assessment/Coursework 1 - Data wrangling and visualisation__ folder in Learn).\n",
    "- The assignment is marked out of 100 and the number of points is indicated by each question. \n",
    "- We will assess your work on the following criteria:\n",
    "  - functional code that performs the computations asked for, as measured by verifying some of the numeric outputs from your processing and reading your code if there is doubt about what you have done\n",
    "  - the quality of the visualisations, measured against the _Visualisation principles and guidance_ handout in the S1 Week 5 workshop (PDF available in S1 Week 5 folder in Learn)\n",
    "  - the quality of your textual comments - as measured by how accurate, complete and insightful they are.\n",
    " \n",
    "## General instructions\n",
    "\n",
    "- Read the instructions carefully, answering what is required and only that.\n",
    "\n",
    "- Fill in your answers in the cells indicated. You may delete text like \"Your answer to Q1.2 goes here\". __Do not edit or delete any other cells.__\n",
    "\n",
    "- Keep your answers brief and concise.\n",
    "\n",
    "- For answers involving visualisations, make sure to label them clearly and provide legends where necessary. \n",
    "\n",
    "- For answers involving numerical values, use correct units where appropriate and format floating point values to a reasonable number of decimal places.\n",
    "\n",
    "- Once you have finished a question, use a Jupyter notebook server to export your PDF, by selecting __File->Download as->PDF via LaTeX (.pdf)__.\n",
    "\n",
    "- Check this PDF document looks as you expect it to. If changes are needed, update the notebook and export again.\n",
    "\n",
    "- Once you have finished all the questions, submit the final PDF using the submission instructions in the __Assessment->Coursework 1 - Data wrangling and visualisation__ folder in Learn. __Please allow enough time to upload your PDF before the deadline.__"
   ]
  },
  {
   "cell_type": "markdown",
   "metadata": {
    "deletable": false,
    "editable": false
   },
   "source": [
    "# Coursework questions\n",
    "\n",
    "This coursework consists of five questions, divided into three parts (A, B and C). Complete all questions. \n",
    "\n",
    "We ask for multiple types of responses:\n",
    "\n",
    "- Numeric responses, which we will use to verify that the processing has been done correctly\n",
    "- Visualisations, which will be assessed using the parts of the _Visualisation principles and guidance_ PDF that apply to the visualisation in question\n",
    "- Comments on your findings, which may ask you to describe, explain or interpret your results, and which will be assessed on how accurate, complete and insightful they are.\n",
    "\n",
    "Throughout the coursework, a decade refers to ten years starting from a year divisible by ten, e.g. 1850-1859 (1850s), 1860-1869 (1860s), etc.\n",
    "\n",
    "In order to understand the meaning the datasets, you may need to follow the links citing the data.\n",
    "\n",
    "Read through all of a question before starting, as some parts build on each other.\n",
    "\n",
    "Good luck - we hope you enjoy it!"
   ]
  },
  {
   "cell_type": "code",
   "execution_count": null,
   "metadata": {
    "deletable": false
   },
   "outputs": [],
   "source": [
    "# Imports - run this cell first, and add your own imports here.\n",
    "# You can use any package you want, but we suggest you stick to ones used in the labs\n",
    "import pandas as pd\n",
    "import matplotlib.pyplot as plt\n",
    "import matplotlib\n",
    "matplotlib.rcParams['figure.dpi'] = 300 # Make figures have reasonable resolution when exporting"
   ]
  },
  {
   "cell_type": "markdown",
   "metadata": {
    "deletable": false,
    "editable": false
   },
   "source": [
    "# Part A - Identifying and correcting bad visualisation practices\n",
    "\n",
    "Designing a good visualisation can be time-consuming, but is important for clear communication. In this part we will ask you to identify and correct bad visualisation practices.  (Note that we'd like you to continue using good visualisation practices in other parts of this coursework too!)  \n",
    "\n",
    "# Question 1 (15 points)\n",
    "\n",
    "The code in the cell below sets up a small data frame that relates cities, the population density of the city, the number of universities in the city and the percentage of the population that commutes by bicycle in the city. "
   ]
  },
  {
   "cell_type": "code",
   "execution_count": null,
   "metadata": {
    "deletable": false,
    "editable": false
   },
   "outputs": [],
   "source": [
    "# This dataframe holds the data. The columns explain the values.\n",
    "data = pd.DataFrame(columns=['City', \n",
    "                              'pop. density [k/km^2]', \n",
    "                              '# universities',\n",
    "                              '% commuting by bike'])\n",
    "data.loc[0] = ['London', 5.701, 40, 3.62]\n",
    "data.loc[1] = ['Edinburgh', 1.830, 6, 4.3]\n",
    "data.loc[2] = ['Glasgow', 3.400, 5, 1.31]\n",
    "\n",
    "data"
   ]
  },
  {
   "cell_type": "markdown",
   "metadata": {
    "deletable": false,
    "editable": false
   },
   "source": [
    "The next cell contains code for a plot that is an example of bad visualisation practice. It shows the population density in 1000s per km$^2$ ($x=0$), the number of universities ($x=1$) and the percentage of people commuting by bicycle ($x=2$)  London (red), Edinburgh (green) and Glasgow (yellow). The plot is also given here for reference.\n",
    "![bad_example_plotting.png](bad_example_plotting.png)"
   ]
  },
  {
   "cell_type": "code",
   "execution_count": null,
   "metadata": {
    "deletable": false,
    "editable": false
   },
   "outputs": [],
   "source": [
    "# This is the figure for you to improve on. \n",
    "fig, ax1 = plt.subplots(figsize=(20, 20))\n",
    "ax1.plot(list(data.iloc[0])[1:], color='r')\n",
    "ax1.plot(list(data.iloc[1])[1:], color='g')\n",
    "ax1.plot(list(data.iloc[2])[1:], color='y')"
   ]
  },
  {
   "cell_type": "markdown",
   "metadata": {
    "deletable": false,
    "editable": false
   },
   "source": [
    "<span style=\"display: none\">\\newpage</span>\n",
    "\n",
    "## Question 1.1 (8 points)\n",
    "\n",
    "Run the code above to produce the plot. Now make an improved version of the plot, so someone presented with it could easily interpret it. There are at least five changes you can make to improve it. Remember that when you export  this notebook to a PDF, it will have a text width of 6 inches."
   ]
  },
  {
   "cell_type": "code",
   "execution_count": null,
   "metadata": {
    "deletable": false
   },
   "outputs": [],
   "source": [
    "# Your code for Q1.1 goes here"
   ]
  },
  {
   "cell_type": "markdown",
   "metadata": {
    "deletable": false,
    "editable": false
   },
   "source": [
    "<span style=\"display: none\">\\newpage</span>\n",
    "\n",
    "## Question 1.2 (5 points)\n",
    "\n",
    "List the changes you have made. Explain briefly why each change is an improvement."
   ]
  },
  {
   "cell_type": "markdown",
   "metadata": {
    "deletable": false
   },
   "source": [
    "Your answer to Q1.2 goes here"
   ]
  },
  {
   "cell_type": "markdown",
   "metadata": {
    "deletable": false,
    "editable": false
   },
   "source": [
    "<span style=\"display: none\">\\newpage</span>\n",
    "\n",
    "## Question 1.3 (2 points)\n",
    "\n",
    "Describe the trends that your improved plot shows."
   ]
  },
  {
   "cell_type": "markdown",
   "metadata": {
    "deletable": false
   },
   "source": [
    "Your answer to Q1.3 goes here"
   ]
  },
  {
   "cell_type": "markdown",
   "metadata": {
    "deletable": false,
    "editable": false
   },
   "source": [
    "<span style=\"display: none\">\\newpage</span>\n",
    "\n",
    "# Part B - Cleaning and exploring UK weather data\n",
    "\n",
    "Questions 2 and 3 consider historical weather data in the UK. The data comes from https://www.metoffice.gov.uk/research/climate/maps-and-data/historic-station-data, but has been processed to get you started. The data consists of separate files for each station, with each data file having a header with coordinates and information on how to interpret the data. We use only the columns giving the year, rainfall and sunshine. Some of the data is missing. Some values are marked to denote them being special in some way, as described in the header of each file.\n",
    "\n",
    "# Question 2 (25 points)\n",
    "\n",
    "In question 2 we ask you to read in the weather data, explore it, and look for trends. To make trends clear, we will ask you to average across all sites. To make trends even clearer, we will ask you to smooth out the localised highs and lows of individual years by averaging over decades. We also want you to consider whether there are any limitations of the data that should be considered.\n",
    "\n",
    "The data for this question is in the folder `weather_sites`, and will need some cleaning.\n",
    "\n",
    "Questions 2.1 and 2.2 can be solved together, so make sure you read through both before starting."
   ]
  },
  {
   "cell_type": "markdown",
   "metadata": {
    "deletable": false,
    "editable": false
   },
   "source": [
    "<span style=\"display: none\">\\newpage</span>\n",
    "\n",
    "## Question 2.1 (10 points)\n",
    "Read in and clean the data in the folder `weather_sites`. Then compute:\n",
    "- The mean rainfall in mm/month measured at UK weather stations for the decades 1850s and 1990s (one number per decade).  Give the answers to 2 decimal places.\n",
    "- The mean sunlight in hours/month measured at UK weather stations for the years 1899 and 1999 (one number per year). Give the answers to 2 decimal places.\n",
    "- The number of data rows you are using (the number of rows in the Pandas DataFrame you used to compute the mean rainfall and mean sunlight).\n",
    "\n",
    "To make your answers clear, please either write out the answer in the cell for \"your written answer\" below the code cell, or make sure that your code produces very clear output.\n",
    "\n",
    "**Hint:** check the data type of each column to verify the processing. Include all values, also those marked as provisional, estimates (`*`), or special in some way (`$` and `#`).\n",
    "\n",
    "**Hint:** use `.map(lambda xx: str(xx))` on a data series to convert all entries to strings, `.rstrip(cc)` on strings to remove the character `cc` from the right of a string, and `.astype('float')` to change the data type back to float."
   ]
  },
  {
   "cell_type": "code",
   "execution_count": null,
   "metadata": {
    "deletable": false
   },
   "outputs": [],
   "source": [
    "# Your code for Q2.1 goes here"
   ]
  },
  {
   "cell_type": "markdown",
   "metadata": {},
   "source": [
    "Your written answer for Q2.1 goes here"
   ]
  },
  {
   "cell_type": "markdown",
   "metadata": {
    "deletable": false,
    "editable": false
   },
   "source": [
    "<span style=\"display: none\">\\newpage</span>\n",
    "\n",
    "## Question 2.2 (9 points)\n",
    "Plot the mean rainfall and sunlight per year and per decade, in mm/month and in hours/month, respectively. Make two plots, one for rainfall and one for sunlight, with both plots having both yearly and per-decade averages."
   ]
  },
  {
   "cell_type": "code",
   "execution_count": null,
   "metadata": {
    "deletable": false
   },
   "outputs": [],
   "source": [
    "# Your code for Q2.2 goes here"
   ]
  },
  {
   "cell_type": "markdown",
   "metadata": {
    "deletable": false,
    "editable": false
   },
   "source": [
    "<span style=\"display: none\">\\newpage</span>\n",
    "\n",
    "## Question 2.3 (6 points)\n",
    "Describe the trends you see. Comment on limitations of the data. Are there any outliers you can explain?"
   ]
  },
  {
   "cell_type": "markdown",
   "metadata": {
    "cell_id": "00009-6c5f0ec2-7869-41f3-87dd-430bb229267c",
    "deepnote_cell_type": "markdown",
    "deletable": false,
    "tags": []
   },
   "source": [
    "Your answer to Q2.3 goes here"
   ]
  },
  {
   "cell_type": "markdown",
   "metadata": {
    "deletable": false,
    "editable": false
   },
   "source": [
    "<span style=\"display: none\">\\newpage</span>\n",
    "\n",
    "# Question 3 (10 points)\n",
    "\n",
    "Now we want to compare the data to a different data set on the UK climate. It comes from https://www.metoffice.gov.uk/research/climate/maps-and-data/uk-and-regional-series. Load it from the file `UK.txt` in the folder `weather_uk-wide`. It gives the sunlight for each month, season and year between 1919 and 2021.\n",
    "\n",
    "Questions 3.1 and 3.2 can be solved together, so make sure you read through both before starting."
   ]
  },
  {
   "cell_type": "markdown",
   "metadata": {
    "deletable": false,
    "editable": false
   },
   "source": [
    "<span style=\"display: none\">\\newpage</span>\n",
    "\n",
    "## Question 3.1 (2 points)\n",
    "Compute the mean sunlight for the 1910s decade and the 1990s decade of the UK-wide data (one number per decade), again in hours/month. Use the annual totals to calculate the average. Two decimal places are sufficient.\n",
    "\n",
    "**Hint:** `pd.read_fwf()` can be used to read `.txt` files."
   ]
  },
  {
   "cell_type": "code",
   "execution_count": null,
   "metadata": {
    "deletable": false
   },
   "outputs": [],
   "source": [
    "# Your code for Q3.1 goes here"
   ]
  },
  {
   "cell_type": "markdown",
   "metadata": {},
   "source": [
    "Your written answer for Q3.1 goes here"
   ]
  },
  {
   "cell_type": "markdown",
   "metadata": {
    "deletable": false,
    "editable": false
   },
   "source": [
    "<span style=\"display: none\">\\newpage</span>\n",
    "\n",
    "## Question 3.2 (5 points)\n",
    "Make a copy of the sunlight plot from the question 2.2 and add the UK-wide values."
   ]
  },
  {
   "cell_type": "code",
   "execution_count": null,
   "metadata": {
    "deletable": false
   },
   "outputs": [],
   "source": [
    "# Your code for Q3.2 goes here"
   ]
  },
  {
   "cell_type": "markdown",
   "metadata": {
    "deletable": false,
    "editable": false
   },
   "source": [
    "<span style=\"display: none\">\\newpage</span>\n",
    "\n",
    "## Question 3.3 (3 points)\n",
    "Describe the trends you see. How do you explain the differences, given that both data sets come from the UK Met Office?"
   ]
  },
  {
   "cell_type": "markdown",
   "metadata": {
    "deletable": false
   },
   "source": [
    "Your answer to Q3.3 goes here"
   ]
  },
  {
   "cell_type": "markdown",
   "metadata": {
    "deletable": false,
    "editable": false
   },
   "source": [
    "<span style=\"display: none\">\\newpage</span>\n",
    "\n",
    "# Part C - Exploring European migration patterns\n",
    "\n",
    "Questions 4 and 5 focus on migration statistics in Europe between the years 1990 and 2019 from [Eurostat](https://ec.europa.eu/eurostat). The Eurostat dataset we use contains tables for immigration and emigration across different countries for these three decades (https://ec.europa.eu/eurostat/databrowser/view/MIGR_IMM8__custom_1301560/default/table?lang=en and https://ec.europa.eu/eurostat/databrowser/view/MIGR_EMI2__custom_1301550/default/table?lang=en). In Question 5 we also use a dataset that provides more information about individual countries. \n",
    "\n",
    "\n",
    "# Question 4 (24 points)\n",
    "\n",
    "In this question we will focus on migration trends throughout Europe. We have already merged the data for immigration and emigration for you, which is presented in the `migration_data/EUROSTAT_migrants.csv` file. Furthermore, variables not in use in this exercise were removed and columns were renamed for your convenience. The `EUROSTAT_migrants.csv` file includes the age group (at the time of migration), sex of the migrant, the country code, the year, and the number of immigrants (`count_in`) and emigrants (`count_out`)."
   ]
  },
  {
   "cell_type": "markdown",
   "metadata": {
    "deletable": false,
    "editable": false
   },
   "source": [
    "<span style=\"display: none\">\\newpage</span>\n",
    "\n",
    "## Question 4.1 (3 points)\n",
    "State the total number of male and female immigrants with known age present in the dataset. \"Known age\" here means belonging to the age groups `Y_LT1`, `Y_GE100`, and `Y_{num}`, where `num` is an integer such that `0<num<100`."
   ]
  },
  {
   "cell_type": "code",
   "execution_count": null,
   "metadata": {
    "deletable": false
   },
   "outputs": [],
   "source": [
    "# Your code for Q4.1 goes here"
   ]
  },
  {
   "cell_type": "markdown",
   "metadata": {},
   "source": [
    "Your written answer for Q4.1 goes here"
   ]
  },
  {
   "cell_type": "markdown",
   "metadata": {
    "deletable": false,
    "editable": false
   },
   "source": [
    "<span style=\"display: none\">\\newpage</span>\n",
    "\n",
    "## Question 4.2 (5 points)\n",
    "State which known age group contains the highest number of immigrants, and the respective number of immigrants. Do this for each sex."
   ]
  },
  {
   "cell_type": "code",
   "execution_count": null,
   "metadata": {
    "deletable": false
   },
   "outputs": [],
   "source": [
    "# Your code for Q4.2 goes here"
   ]
  },
  {
   "cell_type": "markdown",
   "metadata": {},
   "source": [
    "Your written answer for Q4.2 goes here"
   ]
  },
  {
   "cell_type": "markdown",
   "metadata": {
    "deletable": false,
    "editable": false
   },
   "source": [
    "<span style=\"display: none\">\\newpage</span>\n",
    "\n",
    "## Question 4.3 (10 points)\n",
    "Plot the total number of male and female immigrants across different known-age groups."
   ]
  },
  {
   "cell_type": "code",
   "execution_count": null,
   "metadata": {
    "deletable": false
   },
   "outputs": [],
   "source": [
    "# Your code for Q4.3 goes here"
   ]
  },
  {
   "cell_type": "markdown",
   "metadata": {
    "deletable": false,
    "editable": false
   },
   "source": [
    "<span style=\"display: none\">\\newpage</span>\n",
    "\n",
    "## Question 4.4 (6 points)\n",
    "Interpret the plot, identify interesting patterns within it, and comment on why these patterns might be present."
   ]
  },
  {
   "cell_type": "markdown",
   "metadata": {
    "deletable": false
   },
   "source": [
    "Your answer to Q4.4 goes here"
   ]
  },
  {
   "cell_type": "markdown",
   "metadata": {
    "deletable": false,
    "editable": false
   },
   "source": [
    "<span style=\"display: none\">\\newpage</span>\n",
    "\n",
    "# Question 5 (26 points)\n",
    "\n",
    "In this exercise we wish to compare how migration has changed in different European regions.\n",
    "\n",
    "We provide further information about individual countries in the file `migration_data/Countries.csv`. This includes: the country's name; the country code; its population in 2011 stated in millions of inhabitants; and what larger region it belongs to according to the multidisciplinary thesaurus (controlled vocabulary) [EuroVoc](https://op.europa.eu/en/web/eu-vocabularies). The idea is that the four regions (North, West, South, East) have different population sizes, which directly affects the number of migrants associated with each region.\n",
    "\n",
    "Firstly, we want to find the net migration of each region for each year, and scale it appropriately. By \"appropriately\" we mean that the scaling factor should be the sum of the populations of all contributing countries from that region for that year - e.g., Czechia does not provide any data for year 1991, so its population will not be considered in the scaling factor for Eastern Europe for that year. On the other hand, Slovakia and Croatia are countries classified in the Eastern Europe region with data available for 1991, hence their individual populations will contribute towards the sum that represents the region's scaling factor for that year.\n",
    "\n",
    "Once we have all the net migration values scaled for each region for each of the 30 years within our dataset, we want a plot of the distributions of the scaled net migration for the four regions over the three decades - one distribution per region per decade.\n",
    "\n",
    "![European Regions According to EuroVoc](migration_data/European_sub-regions_EuroVoc.png)"
   ]
  },
  {
   "cell_type": "markdown",
   "metadata": {
    "deletable": false,
    "editable": false
   },
   "source": [
    "<span style=\"display: none\">\\newpage</span>\n",
    "\n",
    "## Question 5.1 (3 points)\n",
    "Load `EUROSTAT_migration.csv` afresh. State the sum of net migration (migrants coming in minus migrants going out of each country) across Europe over the past three decades according to the data. Use the data with age group TOTAL."
   ]
  },
  {
   "cell_type": "code",
   "execution_count": null,
   "metadata": {
    "deletable": false
   },
   "outputs": [],
   "source": [
    "# Your code for Q5.1 goes here"
   ]
  },
  {
   "cell_type": "markdown",
   "metadata": {},
   "source": [
    "Your written answer for Q5.1 goes here:"
   ]
  },
  {
   "cell_type": "markdown",
   "metadata": {
    "deletable": false,
    "editable": false
   },
   "source": [
    "<span style=\"display: none\">\\newpage</span>\n",
    "\n",
    "## Question 5.2 (3 points)\n",
    "Merge the migration and countries datasets. State how many countries represent each region in the merged dataset."
   ]
  },
  {
   "cell_type": "code",
   "execution_count": null,
   "metadata": {
    "deletable": false
   },
   "outputs": [],
   "source": [
    "# Your code for Q5.2 goes here"
   ]
  },
  {
   "cell_type": "markdown",
   "metadata": {},
   "source": [
    "Your written answer for Q5.2 goes here"
   ]
  },
  {
   "cell_type": "markdown",
   "metadata": {
    "deletable": false,
    "editable": false
   },
   "source": [
    "<span style=\"display: none\">\\newpage</span>\n",
    "\n",
    "## Question 5.3 (5 points)\n",
    "Compute the scaling factors for each region for each year. The scaling factor is the sum of the populations of the countries within the region that contributed data for that year. Assume the population of each country is constant across the years and is equal to the 2011 population data provided in `Countries.csv`. State:\n",
    "- the maximum and minimum scaling factor of net migration in Eastern Europe\n",
    "- the years in which the maximum and the minimum occur."
   ]
  },
  {
   "cell_type": "code",
   "execution_count": null,
   "metadata": {
    "deletable": false
   },
   "outputs": [],
   "source": [
    "# Your code for Q5.3 goes here"
   ]
  },
  {
   "cell_type": "markdown",
   "metadata": {},
   "source": [
    "Your written answer for Q5.3 goes here"
   ]
  },
  {
   "cell_type": "markdown",
   "metadata": {
    "deletable": false,
    "editable": false
   },
   "source": [
    "<span style=\"display: none\">\\newpage</span>\n",
    "\n",
    "## Question 5.4 (9 points)\n",
    "Compute the scaled net migration for each year for each region. Plot the distribution of scaled net migration for each region for each of the three decades (1990s, 2000s, 2010s)."
   ]
  },
  {
   "cell_type": "code",
   "execution_count": null,
   "metadata": {
    "deletable": false
   },
   "outputs": [],
   "source": [
    "# Your code for Q5.4 goes here"
   ]
  },
  {
   "cell_type": "markdown",
   "metadata": {
    "deletable": false,
    "editable": false
   },
   "source": [
    "<span style=\"display: none\">\\newpage</span>\n",
    "\n",
    "## Question 5.5 (6 points)\n",
    "Analyse and interpret the plot. Are there any interesting patterns? Can you link them to some economic or geopolitical events?"
   ]
  },
  {
   "cell_type": "markdown",
   "metadata": {
    "deletable": false
   },
   "source": [
    "Your answer for Q5.5 goes here"
   ]
  }
 ],
 "metadata": {
  "celltoolbar": "Edit Metadata",
  "deepnote": {
   "is_reactive": false
  },
  "deepnote_execution_queue": [],
  "deepnote_notebook_id": "3669a0bc-e82c-4d6a-be64-b70117ad1d2f",
  "kernelspec": {
   "display_name": "Python 3",
   "language": "python",
   "name": "python3"
  },
  "language_info": {
   "codemirror_mode": {
    "name": "ipython",
    "version": 3
   },
   "file_extension": ".py",
   "mimetype": "text/x-python",
   "name": "python",
   "nbconvert_exporter": "python",
   "pygments_lexer": "ipython3",
   "version": "3.8.1"
  },
  "title": "Inf2 - Foundations of Data Science 2021-22"
 },
 "nbformat": 4,
 "nbformat_minor": 2
}
